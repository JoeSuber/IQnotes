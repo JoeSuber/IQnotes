{
 "cells": [
  {
   "cell_type": "code",
   "execution_count": 7,
   "metadata": {},
   "outputs": [
    {
     "name": "stdout",
     "output_type": "stream",
     "text": [
      "in a Jewish population of 6000000, with mean IQ of 109, 363252.5 people are IQ=140 or higher\n",
      "in a Goys population of 200000000, with mean IQ of 100, 759665.0 people are IQ=140 or higher\n",
      "in a Blacks population of 43820000, with mean IQ of 89.9, 16970.0 people are IQ=140 or higher\n"
     ]
    },
    {
     "data": {
      "image/png": "[encoded data removed]",
      "text/plain": [
       "<Figure size 432x288 with 1 Axes>"
      ]
     },
     "metadata": {},
     "output_type": "display_data"
    }
   ],
   "source": [
    "import numpy as np\n",
    "import matplotlib.pyplot as plt\n",
    "from scipy.stats import norm\n",
    "\n",
    "class IQplotter(object):\n",
    "    \"\"\" spread              # how many std-dev to show out from peak (default 4)\n",
    "        std_dev             # iq standard deviation (typically 15 points)\n",
    "        grain               # how fine a grain to the distribution ('1' is one 'bin' per IQ point)\n",
    "        peeps               # quantity of people under curve\n",
    "        mean_pop_iq         # mean IQ of the given population (ie Jews=108, Goyim=100, Blacks=85)\n",
    "        cut_above           # answers question about how many are above a given IQ\n",
    "        name                # give your population an adjective\n",
    "    \"\"\"\n",
    "    def __init__(self, spread=4, std_dev=15, grain=1000, peeps=6000000,\n",
    "                 mean_pop_iq=108, cut_above=140, name=\"Jewish\"):\n",
    "        self.spread = spread\n",
    "        self.std_dev = std_dev\n",
    "        self.grain = grain\n",
    "        self.peeps = peeps\n",
    "        self.mean_pop_iq = mean_pop_iq\n",
    "        self.cut_above = cut_above\n",
    "        self.name = name\n",
    "\n",
    "        iq_spread = spread * std_dev\n",
    "        iq_lowest = mean_pop_iq - iq_spread\n",
    "        iq_highest = mean_pop_iq + iq_spread\n",
    "\n",
    "        self.x_axis = np.arange(iq_lowest, iq_highest, 1 / float(grain))\n",
    "        self.y = norm.pdf(self.x_axis, mean_pop_iq, std_dev) * peeps\n",
    "        self.part = np.sum(self.y[np.where(self.x_axis >= cut_above)]) / grain\n",
    "        print(\"in a {} population of {}, with mean IQ of {}, {} people are IQ={} or higher\"\n",
    "                .format(name, peeps, mean_pop_iq, np.round(self.part,1), cut_above))\n",
    "\n",
    "    def plot(self):\n",
    "        plt.plot(self.x_axis, self.y)\n",
    "\n",
    "if __name__ == \"__main__\":\n",
    "    us_jews = IQplotter(mean_pop_iq=109, std_dev=20)\n",
    "    us_goys = IQplotter(peeps=200000000, mean_pop_iq=100, name=\"Goys\")\n",
    "    us_black = IQplotter(peeps=int(313000000 * 0.14), mean_pop_iq=89.9, name=\"Blacks\")\n",
    "    \n",
    "\n",
    "    us_black.plot()\n",
    "    us_goys.plot()\n",
    "    us_jews.plot()\n",
    "\n",
    "    plt.show()\n",
    "\n",
    "    \n",
    "    "
   ]
  },
  {
   "cell_type": "code",
   "execution_count": null,
   "metadata": {},
   "outputs": [],
   "source": []
  }
 ],
 "metadata": {
  "kernelspec": {
   "display_name": "Python 3",
   "language": "python",
   "name": "python3"
  },
  "language_info": {
   "codemirror_mode": {
    "name": "ipython",
    "version": 3
   },
   "file_extension": ".py",
   "mimetype": "text/x-python",
   "name": "python",
   "nbconvert_exporter": "python",
   "pygments_lexer": "ipython3",
   "version": "3.6.3"
  }
 },
 "nbformat": 4,
 "nbformat_minor": 2
}
